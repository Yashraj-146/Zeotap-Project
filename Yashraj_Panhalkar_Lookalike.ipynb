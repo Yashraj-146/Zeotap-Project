{
 "cells": [
  {
   "cell_type": "markdown",
   "id": "9cd7e51b-ff6a-4072-8743-1fbb874be7cb",
   "metadata": {},
   "source": [
    "<h3>Import Libraries</h3>"
   ]
  },
  {
   "cell_type": "code",
   "execution_count": 1,
   "id": "64da8b93-492f-435b-91d4-82e1625e93f4",
   "metadata": {},
   "outputs": [
    {
     "data": {
      "text/html": [
       "<div>\n",
       "<style scoped>\n",
       "    .dataframe tbody tr th:only-of-type {\n",
       "        vertical-align: middle;\n",
       "    }\n",
       "\n",
       "    .dataframe tbody tr th {\n",
       "        vertical-align: top;\n",
       "    }\n",
       "\n",
       "    .dataframe thead th {\n",
       "        text-align: right;\n",
       "    }\n",
       "</style>\n",
       "<table border=\"1\" class=\"dataframe\">\n",
       "  <thead>\n",
       "    <tr style=\"text-align: right;\">\n",
       "      <th></th>\n",
       "      <th>TransactionID</th>\n",
       "      <th>CustomerID</th>\n",
       "      <th>ProductID</th>\n",
       "      <th>TransactionDate</th>\n",
       "      <th>Quantity</th>\n",
       "      <th>TotalValue</th>\n",
       "      <th>Price_x</th>\n",
       "      <th>CustomerName</th>\n",
       "      <th>Region</th>\n",
       "      <th>SignupDate</th>\n",
       "      <th>ProductName</th>\n",
       "      <th>Category</th>\n",
       "      <th>Price_y</th>\n",
       "    </tr>\n",
       "  </thead>\n",
       "  <tbody>\n",
       "    <tr>\n",
       "      <th>0</th>\n",
       "      <td>T00001</td>\n",
       "      <td>C0199</td>\n",
       "      <td>P067</td>\n",
       "      <td>2024-08-25 12:38:23</td>\n",
       "      <td>1</td>\n",
       "      <td>300.68</td>\n",
       "      <td>300.68</td>\n",
       "      <td>Andrea Jenkins</td>\n",
       "      <td>Europe</td>\n",
       "      <td>2022-12-03</td>\n",
       "      <td>ComfortLiving Bluetooth Speaker</td>\n",
       "      <td>Electronics</td>\n",
       "      <td>300.68</td>\n",
       "    </tr>\n",
       "    <tr>\n",
       "      <th>1</th>\n",
       "      <td>T00112</td>\n",
       "      <td>C0146</td>\n",
       "      <td>P067</td>\n",
       "      <td>2024-05-27 22:23:54</td>\n",
       "      <td>1</td>\n",
       "      <td>300.68</td>\n",
       "      <td>300.68</td>\n",
       "      <td>Brittany Harvey</td>\n",
       "      <td>Asia</td>\n",
       "      <td>2024-09-04</td>\n",
       "      <td>ComfortLiving Bluetooth Speaker</td>\n",
       "      <td>Electronics</td>\n",
       "      <td>300.68</td>\n",
       "    </tr>\n",
       "    <tr>\n",
       "      <th>2</th>\n",
       "      <td>T00166</td>\n",
       "      <td>C0127</td>\n",
       "      <td>P067</td>\n",
       "      <td>2024-04-25 07:38:55</td>\n",
       "      <td>1</td>\n",
       "      <td>300.68</td>\n",
       "      <td>300.68</td>\n",
       "      <td>Kathryn Stevens</td>\n",
       "      <td>Europe</td>\n",
       "      <td>2024-04-04</td>\n",
       "      <td>ComfortLiving Bluetooth Speaker</td>\n",
       "      <td>Electronics</td>\n",
       "      <td>300.68</td>\n",
       "    </tr>\n",
       "    <tr>\n",
       "      <th>3</th>\n",
       "      <td>T00272</td>\n",
       "      <td>C0087</td>\n",
       "      <td>P067</td>\n",
       "      <td>2024-03-26 22:55:37</td>\n",
       "      <td>2</td>\n",
       "      <td>601.36</td>\n",
       "      <td>300.68</td>\n",
       "      <td>Travis Campbell</td>\n",
       "      <td>South America</td>\n",
       "      <td>2024-04-11</td>\n",
       "      <td>ComfortLiving Bluetooth Speaker</td>\n",
       "      <td>Electronics</td>\n",
       "      <td>300.68</td>\n",
       "    </tr>\n",
       "    <tr>\n",
       "      <th>4</th>\n",
       "      <td>T00363</td>\n",
       "      <td>C0070</td>\n",
       "      <td>P067</td>\n",
       "      <td>2024-03-21 15:10:10</td>\n",
       "      <td>3</td>\n",
       "      <td>902.04</td>\n",
       "      <td>300.68</td>\n",
       "      <td>Timothy Perez</td>\n",
       "      <td>Europe</td>\n",
       "      <td>2022-03-15</td>\n",
       "      <td>ComfortLiving Bluetooth Speaker</td>\n",
       "      <td>Electronics</td>\n",
       "      <td>300.68</td>\n",
       "    </tr>\n",
       "  </tbody>\n",
       "</table>\n",
       "</div>"
      ],
      "text/plain": [
       "  TransactionID CustomerID ProductID      TransactionDate  Quantity  \\\n",
       "0        T00001      C0199      P067  2024-08-25 12:38:23         1   \n",
       "1        T00112      C0146      P067  2024-05-27 22:23:54         1   \n",
       "2        T00166      C0127      P067  2024-04-25 07:38:55         1   \n",
       "3        T00272      C0087      P067  2024-03-26 22:55:37         2   \n",
       "4        T00363      C0070      P067  2024-03-21 15:10:10         3   \n",
       "\n",
       "   TotalValue  Price_x     CustomerName         Region  SignupDate  \\\n",
       "0      300.68   300.68   Andrea Jenkins         Europe  2022-12-03   \n",
       "1      300.68   300.68  Brittany Harvey           Asia  2024-09-04   \n",
       "2      300.68   300.68  Kathryn Stevens         Europe  2024-04-04   \n",
       "3      601.36   300.68  Travis Campbell  South America  2024-04-11   \n",
       "4      902.04   300.68    Timothy Perez         Europe  2022-03-15   \n",
       "\n",
       "                       ProductName     Category  Price_y  \n",
       "0  ComfortLiving Bluetooth Speaker  Electronics   300.68  \n",
       "1  ComfortLiving Bluetooth Speaker  Electronics   300.68  \n",
       "2  ComfortLiving Bluetooth Speaker  Electronics   300.68  \n",
       "3  ComfortLiving Bluetooth Speaker  Electronics   300.68  \n",
       "4  ComfortLiving Bluetooth Speaker  Electronics   300.68  "
      ]
     },
     "execution_count": 1,
     "metadata": {},
     "output_type": "execute_result"
    }
   ],
   "source": [
    "import pandas as pd\n",
    "from sklearn.preprocessing import StandardScaler, OneHotEncoder\n",
    "from sklearn.metrics.pairwise import cosine_similarity\n",
    "from sklearn.compose import ColumnTransformer\n",
    "from sklearn.pipeline import Pipeline\n",
    "from sklearn.preprocessing import FunctionTransformer\n",
    "\n",
    "# Load the data\n",
    "customers_df = pd.read_csv('Customers.csv')\n",
    "transactions_df = pd.read_csv('Transactions.csv')\n",
    "products_df = pd.read_csv('Products.csv')\n",
    "\n",
    "# Merge customers and transactions data\n",
    "merged_df = pd.merge(transactions_df, customers_df, on=\"CustomerID\", how=\"inner\")\n",
    "merged_df = pd.merge(merged_df, products_df, on=\"ProductID\", how=\"inner\")\n",
    "\n",
    "# Check the first few rows of the merged data\n",
    "merged_df.head()\n"
   ]
  },
  {
   "cell_type": "markdown",
   "id": "257ac7a9-2e79-4e91-8452-430b7af47f69",
   "metadata": {},
   "source": [
    "<h3>3. Aggregate Transaction Data for Each Customer</h3>"
   ]
  },
  {
   "cell_type": "code",
   "execution_count": 2,
   "id": "8230bbb5-1870-4009-8858-a66578ed3258",
   "metadata": {},
   "outputs": [
    {
     "data": {
      "text/html": [
       "<div>\n",
       "<style scoped>\n",
       "    .dataframe tbody tr th:only-of-type {\n",
       "        vertical-align: middle;\n",
       "    }\n",
       "\n",
       "    .dataframe tbody tr th {\n",
       "        vertical-align: top;\n",
       "    }\n",
       "\n",
       "    .dataframe thead th {\n",
       "        text-align: right;\n",
       "    }\n",
       "</style>\n",
       "<table border=\"1\" class=\"dataframe\">\n",
       "  <thead>\n",
       "    <tr style=\"text-align: right;\">\n",
       "      <th></th>\n",
       "      <th>CustomerID</th>\n",
       "      <th>Region</th>\n",
       "      <th>total_spend</th>\n",
       "      <th>purchase_count</th>\n",
       "      <th>avg_spent_per_transaction</th>\n",
       "      <th>most_common_category</th>\n",
       "    </tr>\n",
       "  </thead>\n",
       "  <tbody>\n",
       "    <tr>\n",
       "      <th>0</th>\n",
       "      <td>C0001</td>\n",
       "      <td>South America</td>\n",
       "      <td>3354.52</td>\n",
       "      <td>5</td>\n",
       "      <td>670.904</td>\n",
       "      <td>Electronics</td>\n",
       "    </tr>\n",
       "    <tr>\n",
       "      <th>1</th>\n",
       "      <td>C0002</td>\n",
       "      <td>Asia</td>\n",
       "      <td>1862.74</td>\n",
       "      <td>4</td>\n",
       "      <td>465.685</td>\n",
       "      <td>Clothing</td>\n",
       "    </tr>\n",
       "    <tr>\n",
       "      <th>2</th>\n",
       "      <td>C0003</td>\n",
       "      <td>South America</td>\n",
       "      <td>2725.38</td>\n",
       "      <td>4</td>\n",
       "      <td>681.345</td>\n",
       "      <td>Home Decor</td>\n",
       "    </tr>\n",
       "    <tr>\n",
       "      <th>3</th>\n",
       "      <td>C0004</td>\n",
       "      <td>South America</td>\n",
       "      <td>5354.88</td>\n",
       "      <td>8</td>\n",
       "      <td>669.360</td>\n",
       "      <td>Books</td>\n",
       "    </tr>\n",
       "    <tr>\n",
       "      <th>4</th>\n",
       "      <td>C0005</td>\n",
       "      <td>Asia</td>\n",
       "      <td>2034.24</td>\n",
       "      <td>3</td>\n",
       "      <td>678.080</td>\n",
       "      <td>Electronics</td>\n",
       "    </tr>\n",
       "  </tbody>\n",
       "</table>\n",
       "</div>"
      ],
      "text/plain": [
       "  CustomerID         Region  total_spend  purchase_count  \\\n",
       "0      C0001  South America      3354.52               5   \n",
       "1      C0002           Asia      1862.74               4   \n",
       "2      C0003  South America      2725.38               4   \n",
       "3      C0004  South America      5354.88               8   \n",
       "4      C0005           Asia      2034.24               3   \n",
       "\n",
       "   avg_spent_per_transaction most_common_category  \n",
       "0                    670.904          Electronics  \n",
       "1                    465.685             Clothing  \n",
       "2                    681.345           Home Decor  \n",
       "3                    669.360                Books  \n",
       "4                    678.080          Electronics  "
      ]
     },
     "execution_count": 2,
     "metadata": {},
     "output_type": "execute_result"
    }
   ],
   "source": [
    "# Aggregating transaction data for each customer\n",
    "customer_agg = merged_df.groupby('CustomerID').agg(\n",
    "    total_spend=('TotalValue', 'sum'),\n",
    "    purchase_count=('TransactionID', 'count'),\n",
    "    avg_spent_per_transaction=('TotalValue', 'mean'),\n",
    "    most_common_category=('Category', lambda x: x.mode()[0])  # Most frequent product category\n",
    ").reset_index()\n",
    "\n",
    "# Merge with demographic data\n",
    "customer_features = pd.merge(customers_df[['CustomerID', 'Region']], customer_agg, on='CustomerID')\n",
    "\n",
    "# Show the customer features\n",
    "customer_features.head()\n"
   ]
  },
  {
   "cell_type": "markdown",
   "id": "a6993c29-5577-46f5-bdb3-cef1e9c272e3",
   "metadata": {},
   "source": [
    "<h3>4. One-hot Encoding(Region)</h3>"
   ]
  },
  {
   "cell_type": "code",
   "execution_count": 3,
   "id": "3ebe0a56-4741-4c19-a1ea-128cd01d1044",
   "metadata": {},
   "outputs": [],
   "source": [
    "customer_features = pd.get_dummies(customer_features, columns=['Region'], drop_first=True)"
   ]
  },
  {
   "cell_type": "markdown",
   "id": "37dc2468-747f-4c52-94eb-e05afeaacec6",
   "metadata": {},
   "source": [
    "<h3>5. Separate Numerical and Categorical Features</h3>"
   ]
  },
  {
   "cell_type": "code",
   "execution_count": 4,
   "id": "bc424ee4-e277-4f88-bfb7-5e7fbd807067",
   "metadata": {},
   "outputs": [],
   "source": [
    "numerical_columns = ['total_spend', 'purchase_count', 'avg_spent_per_transaction']\n",
    "# In this case, Region columns will be the one-hot encoded columns like 'Region_Africa', 'Region_Asia', etc.\n",
    "categorical_columns = [col for col in customer_features.columns if 'Region_' in col]\n",
    "\n",
    "# Separate the numerical features for scaling\n",
    "numerical_data = customer_features[numerical_columns]\n",
    "\n",
    "# Apply StandardScaler to the numerical features only\n",
    "scaler = StandardScaler()\n",
    "scaled_numerical_data = scaler.fit_transform(numerical_data)"
   ]
  },
  {
   "cell_type": "markdown",
   "id": "45d472fb-bc6b-4073-a175-cf58a2ff5f43",
   "metadata": {},
   "source": [
    "<h3>6. Combine Scaled Numerical Features with Categorical Features</h3>"
   ]
  },
  {
   "cell_type": "code",
   "execution_count": 5,
   "id": "4edc633c-3c55-47d8-8d08-00fdf018788e",
   "metadata": {},
   "outputs": [],
   "source": [
    "scaled_customer_features = pd.DataFrame(scaled_numerical_data, columns=numerical_columns)\n",
    "categorical_data = customer_features[categorical_columns]\n",
    "\n",
    "# Combine scaled numerical features with categorical features\n",
    "final_customer_features = pd.concat([scaled_customer_features, categorical_data], axis=1)"
   ]
  },
  {
   "cell_type": "markdown",
   "id": "43077f6c-b091-4acd-8fe6-019149b9dfa9",
   "metadata": {},
   "source": [
    "<h3>7. Calculate the Cosine Similarity Matrix</h3>"
   ]
  },
  {
   "cell_type": "code",
   "execution_count": 6,
   "id": "b864054c-88f5-4ac0-b847-2f327d35e50e",
   "metadata": {},
   "outputs": [],
   "source": [
    "similarity_matrix = cosine_similarity(final_customer_features)"
   ]
  },
  {
   "cell_type": "markdown",
   "id": "967c4b10-8ac3-4087-a9ef-51c6ac33cc91",
   "metadata": {},
   "source": [
    "<h3>8. Convert the Similarity Matrix to a DataFrame for Easy Access</h3>"
   ]
  },
  {
   "cell_type": "code",
   "execution_count": 7,
   "id": "c26da96e-49c2-4907-9e1b-c98ba96d5cfe",
   "metadata": {},
   "outputs": [],
   "source": [
    "similarity_df = pd.DataFrame(similarity_matrix, index=customer_features['CustomerID'], columns=customer_features['CustomerID'])"
   ]
  },
  {
   "cell_type": "markdown",
   "id": "aeb136ab-a66f-41e3-8165-dd16cc8fff62",
   "metadata": {},
   "source": [
    "<h3>9. Get the Top 3 Similar Customers for Each of the First 20 Customers (C0001 to C0020)</h3>"
   ]
  },
  {
   "cell_type": "code",
   "execution_count": 8,
   "id": "3fb736ca-950d-43ce-9b51-ad18045e7e7e",
   "metadata": {},
   "outputs": [],
   "source": [
    "lookalikes = {}\n",
    "\n",
    "for customer_id in customer_features['CustomerID'][:20]:\n",
    "    # Get similarity scores for the current customer, excluding self-similarity\n",
    "    similarity_scores = similarity_df[customer_id].drop(customer_id)\n",
    "    \n",
    "    # Get the top 3 similar customers\n",
    "    top_3_similar = similarity_scores.nlargest(3)\n",
    "    \n",
    "    # Store the results in the lookalikes dictionary\n",
    "    lookalikes[customer_id] = [(cust_id, score) for cust_id, score in top_3_similar.items()]"
   ]
  },
  {
   "cell_type": "markdown",
   "id": "0e507457-a0cb-4c35-86a3-38a19d65a428",
   "metadata": {},
   "source": [
    "<h3>10. Convert the Lookalikes Data into a DataFrame for Output</h3>"
   ]
  },
  {
   "cell_type": "code",
   "execution_count": 9,
   "id": "71bff343-1347-4b30-a5ac-c4b8ae2cf935",
   "metadata": {},
   "outputs": [],
   "source": [
    "lookalike_records = []\n",
    "for customer_id, similar_customers in lookalikes.items():\n",
    "    for similar_id, score in similar_customers:\n",
    "        lookalike_records.append({'CustomerID': customer_id, 'LookalikeCustomerID': similar_id, 'SimilarityScore': score})\n",
    "\n",
    "lookalike_df = pd.DataFrame(lookalike_records)"
   ]
  },
  {
   "cell_type": "markdown",
   "id": "d6901a14-7785-478f-8dc7-17de0f1c9545",
   "metadata": {},
   "source": [
    "<h3>11. Save the results</h3>"
   ]
  },
  {
   "cell_type": "code",
   "execution_count": 11,
   "id": "7e21981c-e2e5-4573-9f9d-e4293e1f781e",
   "metadata": {},
   "outputs": [],
   "source": [
    "# Step 12: Save the Results to 'Lookalike.csv'\n",
    "lookalike_df.to_csv('Lookalike.csv', index=False)\n",
    "\n",
    "# Output: The lookalike recommendations for customers C0001 to C0020 are now saved in Lookalike.csv.\n"
   ]
  }
 ],
 "metadata": {
  "kernelspec": {
   "display_name": "Python 3 (ipykernel)",
   "language": "python",
   "name": "python3"
  },
  "language_info": {
   "codemirror_mode": {
    "name": "ipython",
    "version": 3
   },
   "file_extension": ".py",
   "mimetype": "text/x-python",
   "name": "python",
   "nbconvert_exporter": "python",
   "pygments_lexer": "ipython3",
   "version": "3.9.6"
  }
 },
 "nbformat": 4,
 "nbformat_minor": 5
}
